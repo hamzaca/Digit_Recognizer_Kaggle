{
 "cells": [
  {
   "cell_type": "code",
   "execution_count": 18,
   "metadata": {
    "colab": {
     "base_uri": "https://localhost:8080/",
     "height": 72
    },
    "colab_type": "code",
    "id": "o93JFkaiW0tV",
    "outputId": "f7a7b763-b8c9-49d0-fb90-44dc627151d9"
   },
   "outputs": [],
   "source": [
    "import pandas as pd\n",
    "import numpy as np\n",
    "import matplotlib.pyplot as plt\n",
    "import matplotlib.image as mpimg\n",
    "import seaborn as sns\n",
    "%matplotlib inline\n",
    "\n",
    "import cv2\n",
    "\n",
    "np.random.seed(2)\n",
    "\n",
    "from sklearn.model_selection import train_test_split\n",
    "from sklearn.metrics import confusion_matrix\n",
    "import itertools\n",
    "\n",
    "\n",
    "from keras.utils.np_utils import to_categorical\n",
    "from keras.models import Sequential\n",
    "from keras.layers import Dense, Dropout, Flatten, Conv2D, MaxPool2D, BatchNormalization, AvgPool2D\n",
    "from keras.optimizers import RMSprop\n",
    "from keras.preprocessing.image import ImageDataGenerator\n",
    "from keras.callbacks import ReduceLROnPlateau\n",
    "\n",
    "\n",
    "sns.set(style='white', context='notebook', palette='deep')"
   ]
  },
  {
   "cell_type": "markdown",
   "metadata": {
    "colab_type": "text",
    "id": "V_eDq0w4NYxn"
   },
   "source": [
    "## Load Data , test and train"
   ]
  },
  {
   "cell_type": "code",
   "execution_count": 3,
   "metadata": {
    "colab": {},
    "colab_type": "code",
    "id": "eqlcQNM8W0tf"
   },
   "outputs": [],
   "source": [
    "\n",
    "train = pd.read_csv(\"data/train.csv\")\n",
    "test = pd.read_csv(\"data/test.csv\")"
   ]
  },
  {
   "cell_type": "code",
   "execution_count": 4,
   "metadata": {
    "colab": {
     "base_uri": "https://localhost:8080/",
     "height": 521
    },
    "colab_type": "code",
    "id": "46uBnl5GW0tk",
    "outputId": "bf099e4e-5d4d-41dc-b7ff-3e21d6c105be"
   },
   "outputs": [
    {
     "name": "stdout",
     "output_type": "stream",
     "text": [
      "shape Train features : (42000, 28, 28, 1)\n",
      "shape Train Targets  : (42000, 28, 28, 1)\n"
     ]
    }
   ],
   "source": [
    "\n",
    "Y_train = train[\"label\"]\n",
    "X_train = train.drop(labels = [\"label\"],axis = 1) \n",
    "\n",
    "X_train = X_train / 255.0\n",
    "test = test / 255.0\n",
    "\n",
    "X_train = X_train.values.reshape(-1,28,28,1)\n",
    "test = test.values.reshape(-1,28,28,1)\n",
    "\n",
    "print(\"shape Train features :\", np.shape(X_train))\n",
    "print(\"shape Train Targets  :\", np.shape(X_train))"
   ]
  },
  {
   "cell_type": "code",
   "execution_count": 17,
   "metadata": {},
   "outputs": [
    {
     "data": {
      "text/plain": [
       "<matplotlib.image.AxesImage at 0x7f63ddef0828>"
      ]
     },
     "execution_count": 17,
     "metadata": {},
     "output_type": "execute_result"
    },
    {
     "data": {
      "image/png": "[encoded data removed]",
      "text/plain": [
       "<Figure size 432x288 with 1 Axes>"
      ]
     },
     "metadata": {
      "needs_background": "light"
     },
     "output_type": "display_data"
    }
   ],
   "source": [
    "image = test[1].reshape((28,28))\n",
    "\n",
    "plt.imshow(image, 'gray')\n",
    "\n",
    "cv2.imwrite()"
   ]
  },
  {
   "cell_type": "code",
   "execution_count": 0,
   "metadata": {
    "colab": {},
    "colab_type": "code",
    "id": "fLxERg42W0t_"
   },
   "outputs": [],
   "source": [
    "# to_categorical\n",
    "Y_train = to_categorical(Y_train, num_classes = 10)"
   ]
  },
  {
   "cell_type": "code",
   "execution_count": 0,
   "metadata": {
    "colab": {},
    "colab_type": "code",
    "id": "ar_Rv1xjW0uF"
   },
   "outputs": [],
   "source": [
    "\n",
    "random_seed = 46\n",
    "X_train, X_test, y_train, y_test = train_test_split(X_train, Y_train, test_size = 0.001, random_state=random_seed)"
   ]
  },
  {
   "cell_type": "code",
   "execution_count": 0,
   "metadata": {
    "colab": {
     "base_uri": "https://localhost:8080/",
     "height": 35
    },
    "colab_type": "code",
    "id": "3jXD103wigGJ",
    "outputId": "35bf5c74-7b6d-4355-9a85-826d43779268"
   },
   "outputs": [
    {
     "data": {
      "text/plain": [
       "(70, 28, 28, 1)"
      ]
     },
     "execution_count": 47,
     "metadata": {
      "tags": []
     },
     "output_type": "execute_result"
    }
   ],
   "source": [
    "np.shape(X_train)"
   ]
  },
  {
   "cell_type": "markdown",
   "metadata": {
    "colab_type": "text",
    "id": "KHDZ_pTlNTQB"
   },
   "source": [
    "## Model Construction : "
   ]
  },
  {
   "cell_type": "code",
   "execution_count": 0,
   "metadata": {
    "colab": {},
    "colab_type": "code",
    "id": "X5KWRaV3W0uQ"
   },
   "outputs": [],
   "source": [
    "\n",
    "input_shape = (28,28,1)\n",
    "def Build_Model(): \n",
    "\n",
    "    model = Sequential()\n",
    "    # 1 conv Layer\n",
    "    model.add(Conv2D(filters = 32, kernel_size = (5,5),padding = 'Same',  activation ='relu', input_shape = input_shape))\n",
    "    model.add(BatchNormalization())\n",
    "    # 2 conv Layer\n",
    "    model.add(Conv2D(filters = 32, kernel_size = (5,5),padding = 'Same', activation ='relu'))\n",
    "    model.add(BatchNormalization())\n",
    "    model.add(AvgPool2D(pool_size=(2,2)))\n",
    "    # 3 #  conv Layer\n",
    "    model.add(Conv2D(filters = 64, kernel_size = (3,3),padding = 'Same', activation ='relu'))\n",
    "    model.add(BatchNormalization())\n",
    "    # 4 # First conv Layer\n",
    "    model.add(Conv2D(filters = 64, kernel_size = (3,3),padding = 'Same',  activation ='relu'))\n",
    "    model.add(BatchNormalization())\n",
    "    model.add(AvgPool2D(pool_size=(2,2), strides=(2,2)))\n",
    "\n",
    "    model.add(Flatten())\n",
    "    model.add(Dense(256*6, activation = \"relu\"))\n",
    "    model.add(Dropout(0.25))\n",
    "    model.add(Dense(256*3, activation = \"relu\"))\n",
    "    model.add(Dropout(0.25))\n",
    "    model.add(Dense(256, activation = \"relu\"))\n",
    "    model.add(Dropout(0.25))\n",
    "    model.add(Dense(10, activation = \"softmax\"))\n",
    "\n",
    "    # Compile model\n",
    "    model.compile(optimizer=\"adam\", loss=\"categorical_crossentropy\", metrics=[\"accuracy\"])\n",
    "\n",
    "\n",
    "\n",
    "    return model\n",
    "\n",
    "\n"
   ]
  },
  {
   "cell_type": "code",
   "execution_count": 0,
   "metadata": {
    "colab": {},
    "colab_type": "code",
    "id": "skAPP0ATW0uX"
   },
   "outputs": [],
   "source": [
    "\n",
    "learning_rate_reduction = ReduceLROnPlateau(monitor='val_acc', patience=3, verbose=1, factor=0.5, min_lr=0.00001)"
   ]
  },
  {
   "cell_type": "markdown",
   "metadata": {
    "colab_type": "text",
    "id": "J-7Qhk2ONPiV"
   },
   "source": [
    "## Data augmentation : "
   ]
  },
  {
   "cell_type": "code",
   "execution_count": 0,
   "metadata": {
    "colab": {},
    "colab_type": "code",
    "id": "eLBYTN1vW0uf"
   },
   "outputs": [],
   "source": [
    "# data augmentation \n",
    "datagen = ImageDataGenerator(featurewise_center=False,  \n",
    "                            samplewise_center=False,\n",
    "                            featurewise_std_normalization=False,    \n",
    "                            samplewise_std_normalization=False,\n",
    "                            zca_whitening=False,  \n",
    "                            rotation_range=10, \n",
    "                            zoom_range = 0.1,\n",
    "                            width_shift_range=0.1,\n",
    "                            height_shift_range=0.1,\n",
    "                            horizontal_flip=False,\n",
    "                            vertical_flip=False)\n",
    "\n",
    "\n",
    "datagen.fit(X_train)"
   ]
  },
  {
   "cell_type": "markdown",
   "metadata": {
    "colab_type": "text",
    "id": "fpRntOtDNKSy"
   },
   "source": [
    "## Traing off the model : "
   ]
  },
  {
   "cell_type": "code",
   "execution_count": null,
   "metadata": {
    "colab": {
     "base_uri": "https://localhost:8080/",
     "height": 1000
    },
    "colab_type": "code",
    "id": "-uEDru0-W0uj",
    "outputId": "74b249b1-d06b-409d-ec91-4b987b5e269d"
   },
   "outputs": [],
   "source": [
    "# Train\n",
    "batch_size = 100\n",
    "history = model.fit_generator(datagen.flow(X_train,y_train, batch_size=batch_size), epochs = 250, \n",
    "                              validation_data = (X_test,y_test),steps_per_epoch=X_train.shape[0] // batch_size, \n",
    "                              callbacks=[learning_rate_reduction])"
   ]
  },
  {
   "cell_type": "code",
   "execution_count": 0,
   "metadata": {
    "colab": {
     "base_uri": "https://localhost:8080/",
     "height": 612
    },
    "colab_type": "code",
    "id": "I7a4gSdVW0un",
    "outputId": "89166200-97f8-44a7-fc5a-914d3d7594cf"
   },
   "outputs": [
    {
     "data": {
      "text/plain": [
       "<matplotlib.legend.Legend at 0x7f0d535f28d0>"
      ]
     },
     "execution_count": 68,
     "metadata": {
      "tags": []
     },
     "output_type": "execute_result"
    },
    {
     "data": {
      "image/png": "[encoded data removed]",
      "text/plain": [
       "<Figure size 1440x720 with 2 Axes>"
      ]
     },
     "metadata": {
      "tags": []
     },
     "output_type": "display_data"
    }
   ],
   "source": [
    "plt.figure(figsize=(20,5))\n",
    "plt.subplot(1,2,1 )\n",
    "plt.plot(history.history['loss'], color='b', label=\"Training loss\")\n",
    "plt.plot(history.history['val_loss'], color='r', label=\"validation loss\")\n",
    "plt.legend(loc='best', shadow=True)\n",
    "\n",
    "plt.subplot(1,2,2 )\n",
    "plt.plot(history.history['accuracy'], color='b', label=\"Training accuracy\")\n",
    "plt.plot(history.history['val_accuracy'], color='r',label=\"Validation accuracy\")\n",
    "plt.legend(loc='best', shadow=True)"
   ]
  },
  {
   "cell_type": "markdown",
   "metadata": {
    "colab_type": "text",
    "id": "4YZAaDDyNyTD"
   },
   "source": [
    "## prediction and save prediction file"
   ]
  },
  {
   "cell_type": "code",
   "execution_count": 0,
   "metadata": {
    "colab": {},
    "colab_type": "code",
    "id": "NA9irg-DW0u2"
   },
   "outputs": [],
   "source": [
    "# \n",
    "results = model.predict(test)\n",
    "results = np.argmax(results,axis = 1)\n",
    "results = pd.Series(results,name=\"Label\")"
   ]
  },
  {
   "cell_type": "code",
   "execution_count": 0,
   "metadata": {
    "colab": {},
    "colab_type": "code",
    "id": "96Jt0jr2W0u5"
   },
   "outputs": [],
   "source": [
    "# file to save and submit to kaggle.\n",
    "submission = pd.concat([pd.Series(range(1,28001),name = \"ImageId\"),results],axis = 1)\n",
    "\n",
    "submission.to_csv(\"cnn_mnist_datagen_avgPooling_150Epochs.csv\",index=False)"
   ]
  },
  {
   "cell_type": "markdown",
   "metadata": {
    "colab": {},
    "colab_type": "code",
    "id": "aMhzpg0vW0vB"
   },
   "source": [
    "## Load Model and predict : "
   ]
  },
  {
   "cell_type": "code",
   "execution_count": null,
   "metadata": {},
   "outputs": [],
   "source": [
    "json_file = open(list_models_model4[i]+\".json\", 'r')\n",
    "loaded_model_json = json_file.read()\n",
    "json_file.close()\n",
    "model = model_from_json(loaded_model_json)\n",
    "# load weights into new model\n",
    "model.load_weights(list_models_model4[i]+\".h5\")\n",
    "print(\"model LOADED\")\n",
    "model.compile(loss='categorical_crossentropy',optimizer='adam',metrics=['accuracy'])\n",
    "\n",
    "# Make predictions : \n",
    "y = model.predict(test)\n",
    "y_predictions = np.argmax(y, axis = 1)\n"
   ]
  },
  {
   "cell_type": "code",
   "execution_count": null,
   "metadata": {},
   "outputs": [],
   "source": [
    "\n",
    "data = {'y_Actual':    Targets,\n",
    "        'y_Predicted':y_pred\n",
    "        }\n",
    "\n",
    "df = pd.DataFrame(data, columns=['y_Actual','y_Predicted'])\n",
    "confusion_matrix = pd.crosstab(df['y_Actual'], df['y_Predicted'], rownames=['Actual'], colnames=['Predicted'], margins = True)\n",
    "\n",
    "\n",
    "\n",
    "plt.figure(figsize=(25,25))\n",
    "sns.heatmap(confusion_matrix, annot=True)\n",
    "plt.show()"
   ]
  }
 ],
 "metadata": {
  "accelerator": "GPU",
  "colab": {
   "collapsed_sections": [],
   "name": "Digit_Recognition_CNN.ipynb",
   "provenance": []
  },
  "kernelspec": {
   "display_name": "Python 3",
   "language": "python",
   "name": "python3"
  },
  "language_info": {
   "codemirror_mode": {
    "name": "ipython",
    "version": 3
   },
   "file_extension": ".py",
   "mimetype": "text/x-python",
   "name": "python",
   "nbconvert_exporter": "python",
   "pygments_lexer": "ipython3",
   "version": "3.6.9"
  }
 },
 "nbformat": 4,
 "nbformat_minor": 1
}
