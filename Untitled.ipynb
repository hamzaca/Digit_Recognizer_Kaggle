{
 "cells": [
  {
   "cell_type": "code",
   "execution_count": 3,
   "metadata": {},
   "outputs": [],
   "source": [
    "\n",
    "import cv2\n",
    "from PIL import Image"
   ]
  },
  {
   "cell_type": "code",
   "execution_count": 15,
   "metadata": {},
   "outputs": [],
   "source": [
    "image = cv2.imread('four.png', 0 )\n",
    "\n",
    "img = cv2.imread('gradient.png',0)\n",
    "ret,thresh1 = cv2.threshold(img,60,170,cv2.THRESH_BINARY)"
   ]
  },
  {
   "cell_type": "code",
   "execution_count": 14,
   "metadata": {},
   "outputs": [
    {
     "data": {
      "text/plain": [
       "array([[185, 185, 185, ..., 185, 185, 185],\n",
       "       [185, 185, 185, ..., 185, 185, 185],\n",
       "       [185, 185, 185, ..., 185, 185, 185],\n",
       "       ...,\n",
       "       [185, 185, 185, ..., 185, 185, 185],\n",
       "       [185, 185, 185, ..., 185, 185, 185],\n",
       "       [185, 185, 185, ..., 185, 185, 185]], dtype=uint8)"
      ]
     },
     "execution_count": 14,
     "metadata": {},
     "output_type": "execute_result"
    }
   ],
   "source": [
    "d= Image.fromarray(thresh1)\n",
    "d\n"
   ]
  },
  {
   "cell_type": "code",
   "execution_count": 4,
   "metadata": {},
   "outputs": [],
   "source": [
    "image = Image.open('four.png')"
   ]
  },
  {
   "cell_type": "code",
   "execution_count": 5,
   "metadata": {},
   "outputs": [
    {
     "data": {
      "image/png": "[encoded data removed]",
      "text/plain": [
       "<PIL.PngImagePlugin.PngImageFile image mode=RGBA size=76x62 at 0x7F22CE46D160>"
      ]
     },
     "execution_count": 5,
     "metadata": {},
     "output_type": "execute_result"
    }
   ],
   "source": [
    "image"
   ]
  },
  {
   "cell_type": "code",
   "execution_count": 9,
   "metadata": {},
   "outputs": [
    {
     "name": "stdout",
     "output_type": "stream",
     "text": [
      "----------------- ------------ --------  API START  ----------------------- ------------ ---------\n",
      "----------------- ------------ --------  Model Loaded   ----------------------- ------------ ---------\n",
      "----------------- ------------ --------  image_path  ----------------------- ------------ ---------\n",
      "image_path =  four.png\n",
      "----------------- ------------ --------  Image resized  ----------------------- ------------ ---------\n",
      "shape image :  (28, 28)\n",
      "----------------- ------------ --------  OUt  ----------------------- ------------ ---------\n",
      "out =  [9]\n"
     ]
    },
    {
     "data": {
      "text/plain": [
       "9"
      ]
     },
     "execution_count": 9,
     "metadata": {},
     "output_type": "execute_result"
    }
   ],
   "source": [
    "#!/usr/bin/env python3\n",
    "# -*- coding: utf-8 -*-\n",
    "\"\"\"\n",
    "Created on Sat Jun  6 03:30:46 2020\n",
    "\n",
    "@author: hamza\n",
    "\"\"\"\n",
    "\n",
    "\n",
    "import numpy as np\n",
    "from flask import Flask, request, jsonify, render_template\n",
    "import pickle\n",
    "from PIL import  Image\n",
    "from keras.models import model_from_json\n",
    "\n",
    "\n",
    "\n",
    "\n",
    "\n",
    "print(\"----------------- ------------ --------  API START  ----------------------- ------------ ---------\")\n",
    "\n",
    "\n",
    "\n",
    "\n",
    "\n",
    " \n",
    "trained_model_name = \"data/digits_avgPool_150_epochs\"\n",
    "\n",
    "json_file = open(trained_model_name +\".json\", 'r')\n",
    "loaded_model_json = json_file.read()\n",
    "json_file.close()\n",
    "model = model_from_json(loaded_model_json)\n",
    "# load weights into new model\n",
    "model.load_weights(trained_model_name +\".h5\")\n",
    "\n",
    "model.compile(loss='categorical_crossentropy',optimizer='adam',metrics=['accuracy'])\n",
    "\n",
    "model._make_predict_function()\n",
    "print(\"----------------- ------------ --------  Model Loaded   ----------------------- ------------ ---------\")\n",
    "\n",
    "\n",
    "\n",
    "def addWhitePixelsArround(file,new_size = (28, 28)):\n",
    "    \n",
    "    \"\"\" Add white pixels arround the image to have the shape 28x28, \n",
    "        and resize the image to the same shape if the image shape is bigger than 28x28.\n",
    "    \n",
    "\n",
    "\n",
    "        return :  - image_new : filan image with shape 28x28\n",
    "    \n",
    "    \"\"\"\n",
    "    with Image.open(file).convert('L') as image:\n",
    "        old_size = image.size\n",
    "\n",
    "        if new_size > old_size:\n",
    "                  \n",
    "            # changer le nombres de pixels de sorte d'entendre l'image vers la gauche, la droite et le haut de l'image.\n",
    "            # etendre vers le bas en respectant la parité des nombres.\n",
    "    \n",
    "            if old_size[0] % 2 == 0:\n",
    "                    add_left = add_right = (new_size[0] - old_size[0]) // 2\n",
    "            else:\n",
    "                    add_left = (new_size[0] - old_size[0]) // 2\n",
    "                    add_right = ((new_size[0] - old_size[0]) // 2) + 1\n",
    "\n",
    "            if old_size[1] % 2 == 0:\n",
    "                    add_top = add_bottom = (new_size[1] - old_size[1]) // 2\n",
    "            else:\n",
    "                    add_top = (new_size[1] - old_size[1]) // 2\n",
    "                    add_bottom = ((new_size[1] - old_size[1]) // 2) + 1\n",
    "\n",
    "            left = 0 - add_left\n",
    "            top = 0 - add_top\n",
    "            right = old_size[0] + add_right\n",
    "            bottom = old_size[1] + add_bottom\n",
    "                \n",
    "            im_inverse = 255 - np.array(image)\n",
    "            im = Image.fromarray(im_inverse)\n",
    "                \n",
    "            # By default, the added pixels are black\n",
    "            image_new = im.crop((left, top, right, bottom))\n",
    "                \n",
    "            image_new = (255 - np.array(image_new))/255.\n",
    "        #  if the size of the image is bigger than 28x28 so resize it.\n",
    "        else :\n",
    "            image_new = np.array(image.resize((28,28),Image.ANTIALIAS))\n",
    "            \n",
    "        \n",
    "        print(\"----------------- ------------ --------  Image resized  ----------------------- ------------ ---------\")\n",
    "\n",
    "\n",
    "        return image_new\n",
    "\n",
    "\n",
    "\n",
    "def predict():\n",
    "    \n",
    "\n",
    "    path_image = \"four.png\"\n",
    "    print(\"----------------- ------------ --------  image_path  ----------------------- ------------ ---------\")\n",
    "    \n",
    "    print(\"image_path = \", path_image)\n",
    "    \n",
    "    # read image\n",
    "    image =  addWhitePixelsArround(path_image)\n",
    "    print(\"shape image : \", image.shape)\n",
    "    y = model.predict(image.reshape(-1,28, 28 , 1))\n",
    "    output = np.argmax(y, axis = 1)\n",
    "    \n",
    "        \n",
    "    print(\"----------------- ------------ --------  OUt  ----------------------- ------------ ---------\")\n",
    "    \n",
    "    print(\"out = \", output)\n",
    "    \n",
    "    return   output\n",
    "\n",
    "\n",
    "\n",
    "predict()[0]"
   ]
  },
  {
   "cell_type": "code",
   "execution_count": null,
   "metadata": {},
   "outputs": [],
   "source": []
  }
 ],
 "metadata": {
  "kernelspec": {
   "display_name": "Python 3",
   "language": "python",
   "name": "python3"
  },
  "language_info": {
   "codemirror_mode": {
    "name": "ipython",
    "version": 3
   },
   "file_extension": ".py",
   "mimetype": "text/x-python",
   "name": "python",
   "nbconvert_exporter": "python",
   "pygments_lexer": "ipython3",
   "version": "3.6.9"
  }
 },
 "nbformat": 4,
 "nbformat_minor": 2
}
